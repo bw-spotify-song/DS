{
  "nbformat": 4,
  "nbformat_minor": 0,
  "metadata": {
    "colab": {
      "name": "Final_Model_KNN_.ipynb",
      "provenance": []
    },
    "kernelspec": {
      "name": "python3",
      "display_name": "Python 3"
    }
  },
  "cells": [
    {
      "cell_type": "code",
      "metadata": {
        "id": "oM8CzIqiRCmh",
        "colab_type": "code",
        "colab": {
          "base_uri": "https://localhost:8080/",
          "height": 34
        },
        "outputId": "5b57ee49-ef19-4250-8d63-0b3b749accff"
      },
      "source": [
        "from google.colab import drive\n",
        "drive.mount('drive')"
      ],
      "execution_count": 131,
      "outputs": [
        {
          "output_type": "stream",
          "text": [
            "Drive already mounted at drive; to attempt to forcibly remount, call drive.mount(\"drive\", force_remount=True).\n"
          ],
          "name": "stdout"
        }
      ]
    },
    {
      "cell_type": "code",
      "metadata": {
        "id": "onTEPZjS5wc4",
        "colab_type": "code",
        "colab": {}
      },
      "source": [
        "import json\n",
        "import pandas as pd\n",
        "import random\n",
        "p= .1#% of the lines\n",
        "#keep the header, then take only 1% of lines\n",
        "#if random from [0,1] interval is greater than 0.01 the row will be skipped\n",
        "raw_data_with_measures = pd.read_csv(\n",
        "         '/content/data.csv', \n",
        "         skiprows=lambda i: i>0 and random.random() > p)"
      ],
      "execution_count": 116,
      "outputs": []
    },
    {
      "cell_type": "code",
      "metadata": {
        "id": "7bYHWNOEt2gK",
        "colab_type": "code",
        "colab": {}
      },
      "source": [
        " #create subdataframe\n",
        "# raw_data_with_measures.to_csv('raw_data.csv') #to csv \n",
        "# !cp raw_data.csv \"drive/My Drive/\" #store in drive "
      ],
      "execution_count": 46,
      "outputs": []
    },
    {
      "cell_type": "code",
      "metadata": {
        "id": "--zrSgajAQaG",
        "colab_type": "code",
        "colab": {}
      },
      "source": [
        "raw_data_with_measures['artists'] = raw_data_with_measures['artists'].apply(lambda x: x[1:-1].split(', ')) # makes the string lists in artists column into actual lists\n",
        "\n",
        "raw_data_with_measures = raw_data_with_measures.explode('artists') # opens the lists so that each artist is on a song has his own row with the song\n",
        "\n",
        "raw_data_with_measures['artists'] = raw_data_with_measures['artists'].apply(lambda x: x.strip(\"'\")) #  we want to take off the quotes on the artists\n",
        "\n",
        "raw_data =  raw_data_with_measures.loc[:,['artists','id','name','popularity','year']] # we will just focus on these columns for now, and rename our data to raw_data\n",
        "\n",
        "\n",
        "raw_data"
      ],
      "execution_count": null,
      "outputs": []
    },
    {
      "cell_type": "code",
      "metadata": {
        "id": "GQ4Ti4v8BC8f",
        "colab_type": "code",
        "colab": {}
      },
      "source": [
        "raw_data_genre = pd.read_csv('data_w_genres.csv')\n",
        "raw_data_genre.head(4)"
      ],
      "execution_count": null,
      "outputs": []
    },
    {
      "cell_type": "code",
      "metadata": {
        "id": "hygpA40GBJjh",
        "colab_type": "code",
        "colab": {}
      },
      "source": [
        "raw_data_genre['genres'] = raw_data_genre['genres'].apply(lambda x: x[1:-1].split(', '))  # makes it into actual list instead of string list\n",
        "\n",
        "for i in raw_data_genre.index:\n",
        "\n",
        "    raw_data_genre['genres'].loc[i] = list(filter(None, raw_data_genre['genres'][i]))  # filters out empty values in each list\n",
        "    \n",
        "\n",
        "raw_data_genre.head(10)"
      ],
      "execution_count": null,
      "outputs": []
    },
    {
      "cell_type": "code",
      "metadata": {
        "id": "zACoZMYLBgDW",
        "colab_type": "code",
        "colab": {}
      },
      "source": [
        "missing_genre_artists = raw_data_genre[raw_data_genre['genres'].map(lambda x: len(x)) < 1]\n",
        "missing_genre_artists"
      ],
      "execution_count": null,
      "outputs": []
    },
    {
      "cell_type": "code",
      "metadata": {
        "id": "LzcKEVkxDJFk",
        "colab_type": "code",
        "colab": {}
      },
      "source": [
        "missing_genre_artists_split = missing_genre_artists.copy()\n",
        "missing_genre_artists_split['artists'] = missing_genre_artists_split['artists'].apply(lambda x: x.split())  # split into words\n",
        "missing_genre_artists_split"
      ],
      "execution_count": null,
      "outputs": []
    },
    {
      "cell_type": "code",
      "metadata": {
        "id": "SqEovaqwFLql",
        "colab_type": "code",
        "colab": {}
      },
      "source": [
        "# lets find most common words in artists\n",
        "\n",
        "def word_count(data):\n",
        "\n",
        "    all_words = []  \n",
        "    for elmnt in data['artists']:  \n",
        "        all_words += elmnt  \n",
        "\n",
        "    val_counts = pd.Series(all_words).value_counts()\n",
        "\n",
        "    return val_counts.head(40)\n",
        "\n",
        "word_count(missing_genre_artists_split)"
      ],
      "execution_count": null,
      "outputs": []
    },
    {
      "cell_type": "code",
      "metadata": {
        "id": "wfxZABKBFUms",
        "colab_type": "code",
        "colab": {}
      },
      "source": [
        "pd.options.mode.chained_assignment = None \n",
        "\n",
        "for i in raw_data_genre.index:\n",
        "    \n",
        "    if 'Broadway' in raw_data_genre['artists'].loc[i]:\n",
        "        raw_data_genre['genres'].loc[i].append(\"'broadway'\")\n",
        "    if 'Motion Picture' in raw_data_genre['artists'].loc[i]:\n",
        "        raw_data_genre['genres'].loc[i].append(\"'movie tunes'\")\n",
        "    if 'Cast' in raw_data_genre['artists'].loc[i]:\n",
        "        raw_data_genre['genres'].loc[i].append(\"'ensemble'\")     # we will put any cast artists under ensemble genre \n",
        "    if 'Ensemble' in raw_data_genre['artists'].loc[i]:\n",
        "        raw_data_genre['genres'].loc[i].append(\"'ensemble'\")  \n",
        "    if 'Orchestra' in raw_data_genre['artists'].loc[i]:\n",
        "        raw_data_genre['genres'].loc[i].append(\"'orchestra'\")\n",
        "    if 'Orquesta' in raw_data_genre['artists'].loc[i]:              # these are just vara\n",
        "        raw_data_genre['genres'].loc[i].append(\"'orchestra'\")\n",
        "    if 'Orchestre' in raw_data_genre['artists'].loc[i]:\n",
        "        raw_data_genre['genres'].loc[i].append(\"'orchestra'\")\n",
        "    if 'Chorus' in raw_data_genre['artists'].loc[i]:\n",
        "        raw_data_genre['genres'].loc[i].append(\"'chorus'\")\n",
        "    if 'Choir' in raw_data_genre['artists'].loc[i]:\n",
        "        raw_data_genre['genres'].loc[i].append(\"'choir'\")\n",
        "        \n",
        "    raw_data_genre['genres'].loc[i] = list(dict.fromkeys(raw_data_genre['genres'].loc[i])) # removes duplicates\n",
        "    \n",
        "\n",
        "raw_data_genre.head(12)"
      ],
      "execution_count": null,
      "outputs": []
    },
    {
      "cell_type": "code",
      "metadata": {
        "id": "9CBSCyq8HYPd",
        "colab_type": "code",
        "colab": {}
      },
      "source": [
        "#create final df that removes artists without genres \n",
        "final_data_genre = raw_data_genre[raw_data_genre['genres'].map(lambda x: len(x)) > 0] # removes empty lists\n",
        "final_data_genre = final_data_genre.reset_index(drop=True)\n",
        "final_data_genre = final_data_genre.drop('count', axis =1 )\n",
        "final_data_genre.rename(columns={'popularity': 'Artist Popularity'}, inplace=True)\n",
        "final_data_genre['Artist Popularity'] = final_data_genre['Artist Popularity'].astype(int)\n",
        "final_data_genre"
      ],
      "execution_count": null,
      "outputs": []
    },
    {
      "cell_type": "code",
      "metadata": {
        "id": "qgGep_eBQhAH",
        "colab_type": "code",
        "colab": {}
      },
      "source": [
        "merged_df = raw_data.merge(final_data_genre, how = 'inner', on = ['artists'])\n",
        "merged_df_copy = merged_df.copy()\n",
        "merged_df_copy.rename(columns={'artists': 'Artist', 'name':'Song Name','popularity':'Song Popularity','year':'Year','genres':'Genres'}, inplace=True)\n",
        "merged_df_copy['Genres_cleaned'] = [','.join(map(str, l)) for l in merged_df_copy['Genres']]\n",
        "merged_df_copy.drop(columns=['Genres'], inplace=True)\n",
        "final_df = merged_df_copy.drop(columns=['key', 'mode'])\n"
      ],
      "execution_count": 129,
      "outputs": []
    },
    {
      "cell_type": "code",
      "metadata": {
        "id": "C6rsaHI8Ciud",
        "colab_type": "code",
        "colab": {}
      },
      "source": [
        "final_df.to_csv('final_df.csv') #to csv \n",
        "!cp final_df.csv \"drive/My Drive/\" #store in drive "
      ],
      "execution_count": 137,
      "outputs": []
    },
    {
      "cell_type": "code",
      "metadata": {
        "id": "AEBvpsAvZMEH",
        "colab_type": "code",
        "colab": {}
      },
      "source": [
        "#dummy encode genres \n",
        "new_df = pd.concat([final_df.drop('Genres_cleaned', 1), final_df['Genres_cleaned'].str.get_dummies(sep=\",\")], 1)"
      ],
      "execution_count": 132,
      "outputs": []
    },
    {
      "cell_type": "code",
      "metadata": {
        "id": "uKIyZPBvc1Sz",
        "colab_type": "code",
        "colab": {}
      },
      "source": [
        "from sklearn.preprocessing import LabelEncoder\n",
        "artist_encoder = LabelEncoder()\n",
        "song_encoder = LabelEncoder()\n",
        "new_df['Artist'] = artist_encoder.fit_transform(new_df['Artist'])\n",
        "new_df['Song Name'] = song_encoder.fit_transform(new_df['Song Name'])"
      ],
      "execution_count": 133,
      "outputs": []
    },
    {
      "cell_type": "code",
      "metadata": {
        "id": "kpfiJnT78-NF",
        "colab_type": "code",
        "colab": {}
      },
      "source": [
        "new_df.to_csv('new_df.csv') #to csv \n",
        "!cp new_df.csv \"drive/My Drive/\" #store in drive "
      ],
      "execution_count": 136,
      "outputs": []
    },
    {
      "cell_type": "code",
      "metadata": {
        "id": "nuCgeYGJS4pU",
        "colab_type": "code",
        "colab": {}
      },
      "source": [
        "from sklearn.neighbors import NearestNeighbors\n",
        "\n",
        "# Instantiate and fit knn to the correct columns\n",
        "knn = NearestNeighbors(n_neighbors=1000)\n",
        "knn.fit(new_df[new_df.columns[5:]])\n",
        "\n",
        "def predict(track_id):\n",
        "\n",
        "    obs = new_df.index[new_df['id'] == track_id]\n",
        "    series = new_df.iloc[obs, 5:].to_numpy()\n",
        "\n",
        "    neighbors = knn.kneighbors(series)\n",
        "    new_obs = neighbors[1][0][6:20]\n",
        "    return list(new_df.loc[new_obs, 'id'])"
      ],
      "execution_count": 138,
      "outputs": []
    },
    {
      "cell_type": "code",
      "metadata": {
        "id": "lN3ko80sYJUs",
        "colab_type": "code",
        "colab": {}
      },
      "source": [
        "predict('6N6tiFZ9vLTSOIxkj8qKrd')"
      ],
      "execution_count": null,
      "outputs": []
    },
    {
      "cell_type": "code",
      "metadata": {
        "id": "BgVCghV-gy4d",
        "colab_type": "code",
        "colab": {
          "base_uri": "https://localhost:8080/",
          "height": 34
        },
        "outputId": "e4777724-f1ac-40f6-98d3-9e20d0bf55d9"
      },
      "source": [
        "import joblib\n",
        "\n",
        "joblib.dump(knn, \"KNN_final.joblib\", compress=2, protocol=None, cache_size=None)\n"
      ],
      "execution_count": 139,
      "outputs": [
        {
          "output_type": "execute_result",
          "data": {
            "text/plain": [
              "['KNN_final.joblib']"
            ]
          },
          "metadata": {
            "tags": []
          },
          "execution_count": 139
        }
      ]
    }
  ]
}