{
 "cells": [
  {
   "cell_type": "code",
   "execution_count": 1,
   "metadata": {},
   "outputs": [],
   "source": [
    "import pandas as pd\n",
    "from sklearn.preprocessing import StandardScaler\n",
    "from sklearn.neighbors import NearestNeighbors"
   ]
  },
  {
   "cell_type": "code",
   "execution_count": 20,
   "metadata": {},
   "outputs": [],
   "source": [
    "df = pd.read_csv('/Users/terrenceam22/Downloads/encoded.csv')\n",
    "df.head()\n",
    "dictionary = df[['artist_name', 'track_name', 'track_key', 'track_id']]\n"
   ]
  },
  {
   "cell_type": "code",
   "execution_count": 21,
   "metadata": {},
   "outputs": [],
   "source": [
    " #drop columns for training\n",
    "df = df.drop(\n",
    "    columns=[\n",
    "        'artist_name',\n",
    "        'track_id',\n",
    "        'track_name'])"
   ]
  },
  {
   "cell_type": "code",
   "execution_count": 23,
   "metadata": {},
   "outputs": [],
   "source": [
    "# Scale the data\n",
    "scaler = StandardScaler()\n",
    "df_s = scaler.fit_transform(df)"
   ]
  },
  {
   "cell_type": "code",
   "execution_count": 24,
   "metadata": {},
   "outputs": [
    {
     "data": {
      "text/plain": [
       "(130663, 16)"
      ]
     },
     "execution_count": 24,
     "metadata": {},
     "output_type": "execute_result"
    }
   ],
   "source": [
    "df_s.shape"
   ]
  },
  {
   "cell_type": "code",
   "execution_count": 25,
   "metadata": {},
   "outputs": [
    {
     "data": {
      "text/plain": [
       "((87544, 16), (43119, 16))"
      ]
     },
     "execution_count": 25,
     "metadata": {},
     "output_type": "execute_result"
    }
   ],
   "source": [
    "# X_train, X_test split\n",
    "from sklearn.model_selection import train_test_split\n",
    "\n",
    "X_train, X_test= train_test_split(df_s, test_size=0.33)\n",
    "X_train.shape, X_test.shape"
   ]
  },
  {
   "cell_type": "code",
   "execution_count": 26,
   "metadata": {},
   "outputs": [],
   "source": [
    "# neural networks\n",
    "import os\n",
    "import datetime\n",
    "from tensorflow.keras.layers import Input, Dense\n",
    "from tensorflow.keras.models import Model\n",
    "from tensorflow.keras.callbacks import EarlyStopping, TensorBoard\n",
    "\n",
    "from tensorflow.keras.callbacks import TensorBoard\n",
    "# this is the size of our encoded representations\n",
    "encoding_dim = 1000\n",
    "\n",
    "# this is our input placeholder\n",
    "input_shape = Input(shape=(16,))\n",
    "\n",
    "# \"encoded\" is the encoded representation of the input\n",
    "encoded = Dense(encoding_dim, activation=\"relu\")(input_shape)\n",
    "\n",
    "# \"decoded\" is the lossy reconstruction of the input\n",
    "decoded = Dense(16, activation=\"softmax\")(encoded)\n",
    "\n",
    "# this model maps an input to its reconstruction\n",
    "autoencoder = Model(input_shape, decoded)"
   ]
  },
  {
   "cell_type": "code",
   "execution_count": 28,
   "metadata": {},
   "outputs": [],
   "source": [
    "autoencoder.compile(optimizer='nadam', loss='binary_crossentropy', metrics=['accuracy'])"
   ]
  },
  {
   "cell_type": "code",
   "execution_count": 29,
   "metadata": {},
   "outputs": [
    {
     "name": "stdout",
     "output_type": "stream",
     "text": [
      "Epoch 1/100\n",
      "1368/1368 [==============================] - 3s 2ms/step - loss: -4.8728 - accuracy: 0.7160 - val_loss: -5.2923 - val_accuracy: 0.7563\n",
      "Epoch 2/100\n",
      "1368/1368 [==============================] - 3s 2ms/step - loss: -5.3579 - accuracy: 0.8470 - val_loss: -5.3579 - val_accuracy: 0.8713\n",
      "Epoch 3/100\n",
      "1368/1368 [==============================] - 3s 2ms/step - loss: -5.3845 - accuracy: 0.8866 - val_loss: -5.3696 - val_accuracy: 0.9116\n",
      "Epoch 4/100\n",
      "1368/1368 [==============================] - 3s 2ms/step - loss: -5.3909 - accuracy: 0.8941 - val_loss: -5.3725 - val_accuracy: 0.9005\n",
      "Epoch 5/100\n",
      "1368/1368 [==============================] - 3s 2ms/step - loss: -5.3935 - accuracy: 0.8990 - val_loss: -5.3745 - val_accuracy: 0.9039\n",
      "Epoch 6/100\n",
      "1368/1368 [==============================] - 3s 2ms/step - loss: -5.3951 - accuracy: 0.9039 - val_loss: -5.3757 - val_accuracy: 0.8989\n",
      "Epoch 7/100\n",
      "1368/1368 [==============================] - 3s 2ms/step - loss: -5.3961 - accuracy: 0.9084 - val_loss: -5.3757 - val_accuracy: 0.8717\n",
      "Epoch 8/100\n",
      "1368/1368 [==============================] - 3s 2ms/step - loss: -5.3969 - accuracy: 0.9111 - val_loss: -5.3769 - val_accuracy: 0.9118\n",
      "Epoch 9/100\n",
      "1368/1368 [==============================] - 3s 2ms/step - loss: -5.3974 - accuracy: 0.9104 - val_loss: -5.3778 - val_accuracy: 0.9192\n",
      "Epoch 10/100\n",
      "1368/1368 [==============================] - 3s 2ms/step - loss: -5.3978 - accuracy: 0.9146 - val_loss: -5.3781 - val_accuracy: 0.9186\n",
      "Epoch 11/100\n",
      "1368/1368 [==============================] - 3s 2ms/step - loss: -5.3984 - accuracy: 0.9159 - val_loss: -5.3787 - val_accuracy: 0.9211\n",
      "Epoch 12/100\n",
      "1368/1368 [==============================] - 3s 2ms/step - loss: -5.3985 - accuracy: 0.9148 - val_loss: -5.3790 - val_accuracy: 0.9235\n"
     ]
    },
    {
     "data": {
      "text/plain": [
       "<tensorflow.python.keras.callbacks.History at 0x7f98a6fd4c10>"
      ]
     },
     "execution_count": 29,
     "metadata": {},
     "output_type": "execute_result"
    }
   ],
   "source": [
    "stop = EarlyStopping(monitor='val_loss', min_delta=0.001, patience=2)\n",
    "\n",
    "logdir = os.path.join(\"logs\", datetime.datetime.now().strftime(\"%Y%m%d-%H%M%S\"))\n",
    "tensorboard = TensorBoard(log_dir=logdir)\n",
    "\n",
    "autoencoder.fit(X_train, X_train,\n",
    "                epochs=100,\n",
    "                batch_size=64,\n",
    "                shuffle=True,\n",
    "                validation_data=(X_test, X_test),\n",
    "                verbose = 1,\n",
    "                callbacks=[stop, tensorboard])\n"
   ]
  },
  {
   "cell_type": "code",
   "execution_count": null,
   "metadata": {},
   "outputs": [],
   "source": []
  }
 ],
 "metadata": {
  "kernelspec": {
   "display_name": "Python 3",
   "language": "python",
   "name": "python3"
  },
  "language_info": {
   "codemirror_mode": {
    "name": "ipython",
    "version": 3
   },
   "file_extension": ".py",
   "mimetype": "text/x-python",
   "name": "python",
   "nbconvert_exporter": "python",
   "pygments_lexer": "ipython3",
   "version": "3.8.3"
  }
 },
 "nbformat": 4,
 "nbformat_minor": 4
}
