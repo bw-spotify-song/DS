{
  "nbformat": 4,
  "nbformat_minor": 0,
  "metadata": {
    "colab": {
      "name": "Final_Model_w_joblib.ipynb",
      "provenance": []
    },
    "kernelspec": {
      "name": "python3",
      "display_name": "Python 3"
    }
  },
  "cells": [
    {
      "cell_type": "code",
      "metadata": {
        "id": "onTEPZjS5wc4",
        "colab_type": "code",
        "colab": {}
      },
      "source": [
        "import json\n",
        "import pandas as pd\n",
        "import random\n",
        "p = 0.2  # 1% of the lines\n",
        "# keep the header, then take only 1% of lines\n",
        "# if random from [0,1] interval is greater than 0.01 the row will be skipped\n",
        "raw_data_with_measures = pd.read_csv(\n",
        "         '/content/data.csv', \n",
        "         skiprows=lambda i: i>0 and random.random() > p)"
      ],
      "execution_count": 74,
      "outputs": []
    },
    {
      "cell_type": "code",
      "metadata": {
        "id": "--zrSgajAQaG",
        "colab_type": "code",
        "colab": {
          "base_uri": "https://localhost:8080/",
          "height": 419
        },
        "outputId": "f232f10f-3892-4315-f3a8-8ab8a2a60d57"
      },
      "source": [
        "raw_data_with_measures['artists'] = raw_data_with_measures['artists'].apply(lambda x: x[1:-1].split(', ')) # makes the string lists in artists column into actual lists\n",
        "\n",
        "raw_data_with_measures = raw_data_with_measures.explode('artists') # opens the lists so that each artist is on a song has his own row with the song\n",
        "\n",
        "raw_data_with_measures['artists'] = raw_data_with_measures['artists'].apply(lambda x: x.strip(\"'\")) #  we want to take off the quotes on the artists\n",
        "\n",
        "raw_data =  raw_data_with_measures.loc[:,['artists','id','name','popularity','year']] # we will just focus on these columns for now, and rename our data to raw_data\n",
        "\n",
        "\n",
        "raw_data"
      ],
      "execution_count": 75,
      "outputs": [
        {
          "output_type": "execute_result",
          "data": {
            "text/html": [
              "<div>\n",
              "<style scoped>\n",
              "    .dataframe tbody tr th:only-of-type {\n",
              "        vertical-align: middle;\n",
              "    }\n",
              "\n",
              "    .dataframe tbody tr th {\n",
              "        vertical-align: top;\n",
              "    }\n",
              "\n",
              "    .dataframe thead th {\n",
              "        text-align: right;\n",
              "    }\n",
              "</style>\n",
              "<table border=\"1\" class=\"dataframe\">\n",
              "  <thead>\n",
              "    <tr style=\"text-align: right;\">\n",
              "      <th></th>\n",
              "      <th>artists</th>\n",
              "      <th>id</th>\n",
              "      <th>name</th>\n",
              "      <th>popularity</th>\n",
              "      <th>year</th>\n",
              "    </tr>\n",
              "  </thead>\n",
              "  <tbody>\n",
              "    <tr>\n",
              "      <th>0</th>\n",
              "      <td>Felix Mendelssohn</td>\n",
              "      <td>6NxAf7M8DNHOBTmEd3JSO5</td>\n",
              "      <td>Scherzo a capriccio: Presto</td>\n",
              "      <td>0</td>\n",
              "      <td>1928</td>\n",
              "    </tr>\n",
              "    <tr>\n",
              "      <th>0</th>\n",
              "      <td>Vladimir Horowitz</td>\n",
              "      <td>6NxAf7M8DNHOBTmEd3JSO5</td>\n",
              "      <td>Scherzo a capriccio: Presto</td>\n",
              "      <td>0</td>\n",
              "      <td>1928</td>\n",
              "    </tr>\n",
              "    <tr>\n",
              "      <th>1</th>\n",
              "      <td>Ludwig van Beethoven</td>\n",
              "      <td>6Rwn56jcC0TdGQzbRl7NGw</td>\n",
              "      <td>Symphony No. 5 in C Minor, Op. 67: 3. Allegro</td>\n",
              "      <td>0</td>\n",
              "      <td>1928</td>\n",
              "    </tr>\n",
              "    <tr>\n",
              "      <th>1</th>\n",
              "      <td>Staatskapelle Berlin</td>\n",
              "      <td>6Rwn56jcC0TdGQzbRl7NGw</td>\n",
              "      <td>Symphony No. 5 in C Minor, Op. 67: 3. Allegro</td>\n",
              "      <td>0</td>\n",
              "      <td>1928</td>\n",
              "    </tr>\n",
              "    <tr>\n",
              "      <th>1</th>\n",
              "      <td>Richard Strauss</td>\n",
              "      <td>6Rwn56jcC0TdGQzbRl7NGw</td>\n",
              "      <td>Symphony No. 5 in C Minor, Op. 67: 3. Allegro</td>\n",
              "      <td>0</td>\n",
              "      <td>1928</td>\n",
              "    </tr>\n",
              "    <tr>\n",
              "      <th>...</th>\n",
              "      <td>...</td>\n",
              "      <td>...</td>\n",
              "      <td>...</td>\n",
              "      <td>...</td>\n",
              "      <td>...</td>\n",
              "    </tr>\n",
              "    <tr>\n",
              "      <th>33881</th>\n",
              "      <td>YoungBoy Never Broke Again</td>\n",
              "      <td>0KVEBQA98JvkmB5ZydQ13k</td>\n",
              "      <td>Fine By Time</td>\n",
              "      <td>64</td>\n",
              "      <td>2020</td>\n",
              "    </tr>\n",
              "    <tr>\n",
              "      <th>33882</th>\n",
              "      <td>Trey Songz</td>\n",
              "      <td>5QZ11AHm7xiytOGXGlxQi5</td>\n",
              "      <td>Back Home (feat. Summer Walker)</td>\n",
              "      <td>69</td>\n",
              "      <td>2020</td>\n",
              "    </tr>\n",
              "    <tr>\n",
              "      <th>33882</th>\n",
              "      <td>Summer Walker</td>\n",
              "      <td>5QZ11AHm7xiytOGXGlxQi5</td>\n",
              "      <td>Back Home (feat. Summer Walker)</td>\n",
              "      <td>69</td>\n",
              "      <td>2020</td>\n",
              "    </tr>\n",
              "    <tr>\n",
              "      <th>33883</th>\n",
              "      <td>Leon Bridges</td>\n",
              "      <td>1ehhGlTvjtHo2e4xJFB0SZ</td>\n",
              "      <td>Sweeter (feat. Terrace Martin)</td>\n",
              "      <td>64</td>\n",
              "      <td>2020</td>\n",
              "    </tr>\n",
              "    <tr>\n",
              "      <th>33883</th>\n",
              "      <td>Terrace Martin</td>\n",
              "      <td>1ehhGlTvjtHo2e4xJFB0SZ</td>\n",
              "      <td>Sweeter (feat. Terrace Martin)</td>\n",
              "      <td>64</td>\n",
              "      <td>2020</td>\n",
              "    </tr>\n",
              "  </tbody>\n",
              "</table>\n",
              "<p>45383 rows × 5 columns</p>\n",
              "</div>"
            ],
            "text/plain": [
              "                          artists                      id  ... popularity  year\n",
              "0               Felix Mendelssohn  6NxAf7M8DNHOBTmEd3JSO5  ...          0  1928\n",
              "0               Vladimir Horowitz  6NxAf7M8DNHOBTmEd3JSO5  ...          0  1928\n",
              "1            Ludwig van Beethoven  6Rwn56jcC0TdGQzbRl7NGw  ...          0  1928\n",
              "1            Staatskapelle Berlin  6Rwn56jcC0TdGQzbRl7NGw  ...          0  1928\n",
              "1                 Richard Strauss  6Rwn56jcC0TdGQzbRl7NGw  ...          0  1928\n",
              "...                           ...                     ...  ...        ...   ...\n",
              "33881  YoungBoy Never Broke Again  0KVEBQA98JvkmB5ZydQ13k  ...         64  2020\n",
              "33882                  Trey Songz  5QZ11AHm7xiytOGXGlxQi5  ...         69  2020\n",
              "33882               Summer Walker  5QZ11AHm7xiytOGXGlxQi5  ...         69  2020\n",
              "33883                Leon Bridges  1ehhGlTvjtHo2e4xJFB0SZ  ...         64  2020\n",
              "33883              Terrace Martin  1ehhGlTvjtHo2e4xJFB0SZ  ...         64  2020\n",
              "\n",
              "[45383 rows x 5 columns]"
            ]
          },
          "metadata": {
            "tags": []
          },
          "execution_count": 75
        }
      ]
    },
    {
      "cell_type": "code",
      "metadata": {
        "id": "GQ4Ti4v8BC8f",
        "colab_type": "code",
        "colab": {}
      },
      "source": [
        "raw_data_genre = pd.read_csv('data_w_genres.csv')\n",
        "raw_data_genre.head(4)"
      ],
      "execution_count": null,
      "outputs": []
    },
    {
      "cell_type": "code",
      "metadata": {
        "id": "hygpA40GBJjh",
        "colab_type": "code",
        "colab": {}
      },
      "source": [
        "raw_data_genre['genres'] = raw_data_genre['genres'].apply(lambda x: x[1:-1].split(', '))  # makes it into actual list instead of string list\n",
        "\n",
        "for i in raw_data_genre.index:\n",
        "\n",
        "    raw_data_genre['genres'].loc[i] = list(filter(None, raw_data_genre['genres'][i]))  # filters out empty values in each list\n",
        "    \n",
        "\n",
        "raw_data_genre.head(10)"
      ],
      "execution_count": null,
      "outputs": []
    },
    {
      "cell_type": "code",
      "metadata": {
        "id": "zACoZMYLBgDW",
        "colab_type": "code",
        "colab": {}
      },
      "source": [
        "missing_genre_artists = raw_data_genre[raw_data_genre['genres'].map(lambda x: len(x)) < 1]\n",
        "missing_genre_artists"
      ],
      "execution_count": null,
      "outputs": []
    },
    {
      "cell_type": "code",
      "metadata": {
        "id": "LzcKEVkxDJFk",
        "colab_type": "code",
        "colab": {}
      },
      "source": [
        "missing_genre_artists_split = missing_genre_artists.copy()\n",
        "missing_genre_artists_split['artists'] = missing_genre_artists_split['artists'].apply(lambda x: x.split())  # split into words\n",
        "missing_genre_artists_split"
      ],
      "execution_count": null,
      "outputs": []
    },
    {
      "cell_type": "code",
      "metadata": {
        "id": "SqEovaqwFLql",
        "colab_type": "code",
        "colab": {}
      },
      "source": [
        "# lets find most common words in artists\n",
        "\n",
        "def word_count(data):\n",
        "\n",
        "    all_words = []  \n",
        "    for elmnt in data['artists']:  \n",
        "        all_words += elmnt  \n",
        "\n",
        "    val_counts = pd.Series(all_words).value_counts()\n",
        "\n",
        "    return val_counts.head(40)\n",
        "\n",
        "word_count(missing_genre_artists_split)"
      ],
      "execution_count": null,
      "outputs": []
    },
    {
      "cell_type": "code",
      "metadata": {
        "id": "wfxZABKBFUms",
        "colab_type": "code",
        "colab": {}
      },
      "source": [
        "pd.options.mode.chained_assignment = None \n",
        "\n",
        "for i in raw_data_genre.index:\n",
        "    \n",
        "    if 'Broadway' in raw_data_genre['artists'].loc[i]:\n",
        "        raw_data_genre['genres'].loc[i].append(\"'broadway'\")\n",
        "    if 'Motion Picture' in raw_data_genre['artists'].loc[i]:\n",
        "        raw_data_genre['genres'].loc[i].append(\"'movie tunes'\")\n",
        "    if 'Cast' in raw_data_genre['artists'].loc[i]:\n",
        "        raw_data_genre['genres'].loc[i].append(\"'ensemble'\")     # we will put any cast artists under ensemble genre \n",
        "    if 'Ensemble' in raw_data_genre['artists'].loc[i]:\n",
        "        raw_data_genre['genres'].loc[i].append(\"'ensemble'\")  \n",
        "    if 'Orchestra' in raw_data_genre['artists'].loc[i]:\n",
        "        raw_data_genre['genres'].loc[i].append(\"'orchestra'\")\n",
        "    if 'Orquesta' in raw_data_genre['artists'].loc[i]:              # these are just vara\n",
        "        raw_data_genre['genres'].loc[i].append(\"'orchestra'\")\n",
        "    if 'Orchestre' in raw_data_genre['artists'].loc[i]:\n",
        "        raw_data_genre['genres'].loc[i].append(\"'orchestra'\")\n",
        "    if 'Chorus' in raw_data_genre['artists'].loc[i]:\n",
        "        raw_data_genre['genres'].loc[i].append(\"'chorus'\")\n",
        "    if 'Choir' in raw_data_genre['artists'].loc[i]:\n",
        "        raw_data_genre['genres'].loc[i].append(\"'choir'\")\n",
        "        \n",
        "    raw_data_genre['genres'].loc[i] = list(dict.fromkeys(raw_data_genre['genres'].loc[i])) # removes duplicates\n",
        "    \n",
        "\n",
        "raw_data_genre.head(12)"
      ],
      "execution_count": null,
      "outputs": []
    },
    {
      "cell_type": "code",
      "metadata": {
        "id": "9CBSCyq8HYPd",
        "colab_type": "code",
        "colab": {}
      },
      "source": [
        "#create final df that removes artists without genres \n",
        "final_data_genre = raw_data_genre[raw_data_genre['genres'].map(lambda x: len(x)) > 0] # removes empty lists\n",
        "final_data_genre = final_data_genre.reset_index(drop=True)\n",
        "final_data_genre = final_data_genre.drop('count', axis =1 )\n",
        "final_data_genre.rename(columns={'popularity': 'Artist Popularity'}, inplace=True)\n",
        "final_data_genre['Artist Popularity'] = final_data_genre['Artist Popularity'].astype(int)\n",
        "final_data_genre"
      ],
      "execution_count": null,
      "outputs": []
    },
    {
      "cell_type": "code",
      "metadata": {
        "id": "wzKZeMaWTbDi",
        "colab_type": "code",
        "colab": {}
      },
      "source": [
        "raw_data_with_measures"
      ],
      "execution_count": null,
      "outputs": []
    },
    {
      "cell_type": "code",
      "metadata": {
        "id": "qgGep_eBQhAH",
        "colab_type": "code",
        "colab": {}
      },
      "source": [
        "merged_df = raw_data.merge(final_data_genre, how = 'inner', on = ['artists'])\n",
        "merged_df_copy = merged_df.copy()\n",
        "merged_df_copy.rename(columns={'artists': 'Artist', 'name':'Song Name','popularity':'Song Popularity','year':'Year','genres':'Genres'}, inplace=True)\n",
        "merged_df_copy['Genres_cleaned'] = [','.join(map(str, l)) for l in merged_df_copy['Genres']]\n",
        "merged_df_copy.drop(columns=['Genres'], inplace=True)\n",
        "final_df = merged_df_copy.drop(columns=['key', 'mode'])\n"
      ],
      "execution_count": 83,
      "outputs": []
    },
    {
      "cell_type": "code",
      "metadata": {
        "id": "nBW_r5WPdSfF",
        "colab_type": "code",
        "colab": {
          "base_uri": "https://localhost:8080/",
          "height": 250
        },
        "outputId": "a8277018-7003-4d15-891a-bfa187920250"
      },
      "source": [
        "final_df.head(2)"
      ],
      "execution_count": 104,
      "outputs": [
        {
          "output_type": "execute_result",
          "data": {
            "text/html": [
              "<div>\n",
              "<style scoped>\n",
              "    .dataframe tbody tr th:only-of-type {\n",
              "        vertical-align: middle;\n",
              "    }\n",
              "\n",
              "    .dataframe tbody tr th {\n",
              "        vertical-align: top;\n",
              "    }\n",
              "\n",
              "    .dataframe thead th {\n",
              "        text-align: right;\n",
              "    }\n",
              "</style>\n",
              "<table border=\"1\" class=\"dataframe\">\n",
              "  <thead>\n",
              "    <tr style=\"text-align: right;\">\n",
              "      <th></th>\n",
              "      <th>Artist</th>\n",
              "      <th>id</th>\n",
              "      <th>Song Name</th>\n",
              "      <th>Song Popularity</th>\n",
              "      <th>Year</th>\n",
              "      <th>acousticness</th>\n",
              "      <th>danceability</th>\n",
              "      <th>duration_ms</th>\n",
              "      <th>energy</th>\n",
              "      <th>instrumentalness</th>\n",
              "      <th>liveness</th>\n",
              "      <th>loudness</th>\n",
              "      <th>speechiness</th>\n",
              "      <th>tempo</th>\n",
              "      <th>valence</th>\n",
              "      <th>Artist Popularity</th>\n",
              "      <th>Genres_cleaned</th>\n",
              "    </tr>\n",
              "  </thead>\n",
              "  <tbody>\n",
              "    <tr>\n",
              "      <th>0</th>\n",
              "      <td>Felix Mendelssohn</td>\n",
              "      <td>6NxAf7M8DNHOBTmEd3JSO5</td>\n",
              "      <td>Scherzo a capriccio: Presto</td>\n",
              "      <td>0</td>\n",
              "      <td>1928</td>\n",
              "      <td>0.95083</td>\n",
              "      <td>0.330667</td>\n",
              "      <td>334917.267857</td>\n",
              "      <td>0.144775</td>\n",
              "      <td>0.629957</td>\n",
              "      <td>0.145538</td>\n",
              "      <td>-20.846027</td>\n",
              "      <td>0.041148</td>\n",
              "      <td>102.961884</td>\n",
              "      <td>0.280798</td>\n",
              "      <td>4</td>\n",
              "      <td>'classical','early romantic era'</td>\n",
              "    </tr>\n",
              "    <tr>\n",
              "      <th>1</th>\n",
              "      <td>Felix Mendelssohn</td>\n",
              "      <td>4vBZRf6KWbMryfuuglDdCi</td>\n",
              "      <td>Incidental Music to A Midsummer Night's Dream,...</td>\n",
              "      <td>0</td>\n",
              "      <td>1942</td>\n",
              "      <td>0.95083</td>\n",
              "      <td>0.330667</td>\n",
              "      <td>334917.267857</td>\n",
              "      <td>0.144775</td>\n",
              "      <td>0.629957</td>\n",
              "      <td>0.145538</td>\n",
              "      <td>-20.846027</td>\n",
              "      <td>0.041148</td>\n",
              "      <td>102.961884</td>\n",
              "      <td>0.280798</td>\n",
              "      <td>4</td>\n",
              "      <td>'classical','early romantic era'</td>\n",
              "    </tr>\n",
              "  </tbody>\n",
              "</table>\n",
              "</div>"
            ],
            "text/plain": [
              "              Artist  ...                    Genres_cleaned\n",
              "0  Felix Mendelssohn  ...  'classical','early romantic era'\n",
              "1  Felix Mendelssohn  ...  'classical','early romantic era'\n",
              "\n",
              "[2 rows x 17 columns]"
            ]
          },
          "metadata": {
            "tags": []
          },
          "execution_count": 104
        }
      ]
    },
    {
      "cell_type": "code",
      "metadata": {
        "id": "7xJiILmchEf_",
        "colab_type": "code",
        "colab": {}
      },
      "source": [
        ""
      ],
      "execution_count": null,
      "outputs": []
    },
    {
      "cell_type": "code",
      "metadata": {
        "id": "AEBvpsAvZMEH",
        "colab_type": "code",
        "colab": {}
      },
      "source": [
        "#dummy encode genres \n",
        "new_df = pd.concat([final_df.drop('Genres_cleaned', 1), final_df['Genres_cleaned'].str.get_dummies(sep=\",\")], 1)\n"
      ],
      "execution_count": 100,
      "outputs": []
    },
    {
      "cell_type": "code",
      "metadata": {
        "id": "uKIyZPBvc1Sz",
        "colab_type": "code",
        "colab": {}
      },
      "source": [
        "from sklearn.preprocessing import LabelEncoder\n",
        "artist_encoder = LabelEncoder()\n",
        "song_encoder = LabelEncoder()\n",
        "new_df['Artist'] = artist_encoder.fit_transform(new_df['Artist'])\n",
        "new_df['Song Name'] = song_encoder.fit_transform(new_df['Song Name'])"
      ],
      "execution_count": 105,
      "outputs": []
    },
    {
      "cell_type": "code",
      "metadata": {
        "id": "gAtyS82pelo0",
        "colab_type": "code",
        "colab": {
          "base_uri": "https://localhost:8080/",
          "height": 34
        },
        "outputId": "9a229846-db95-482a-d7ff-a99759769144"
      },
      "source": [
        "new_df.shape"
      ],
      "execution_count": 106,
      "outputs": [
        {
          "output_type": "execute_result",
          "data": {
            "text/plain": [
              "(38815, 2059)"
            ]
          },
          "metadata": {
            "tags": []
          },
          "execution_count": 106
        }
      ]
    },
    {
      "cell_type": "code",
      "metadata": {
        "id": "nuCgeYGJS4pU",
        "colab_type": "code",
        "colab": {}
      },
      "source": [
        "from sklearn.neighbors import NearestNeighbors\n",
        "\n",
        "# Instantiate and fit knn to the correct columns\n",
        "knn = NearestNeighbors(n_neighbors=1000)\n",
        "knn.fit(new_df[new_df.columns[5:]])\n",
        "\n",
        "def predict(track_id):\n",
        "\n",
        "    obs = new_df.index[new_df['id'] == track_id]\n",
        "    series = new_df.iloc[obs, 5:].to_numpy()\n",
        "\n",
        "    neighbors = knn.kneighbors(series)\n",
        "    new_obs = neighbors[1][0][6:20]\n",
        "    return list(new_df.loc[new_obs, 'id'])"
      ],
      "execution_count": 141,
      "outputs": []
    },
    {
      "cell_type": "code",
      "metadata": {
        "id": "GcJTdXvmVVdY",
        "colab_type": "code",
        "colab": {
          "base_uri": "https://localhost:8080/",
          "height": 34
        },
        "outputId": "02442718-8a8d-4204-b8f5-467cd26c3ede"
      },
      "source": [
        "track_id = '6NxAf7M8DNHOBTmEd3JSO5'\n",
        "\n",
        "obs = new_df.index[new_df['id'] == track_id]\n",
        "obs"
      ],
      "execution_count": 142,
      "outputs": [
        {
          "output_type": "execute_result",
          "data": {
            "text/plain": [
              "Int64Index([0, 24], dtype='int64')"
            ]
          },
          "metadata": {
            "tags": []
          },
          "execution_count": 142
        }
      ]
    },
    {
      "cell_type": "code",
      "metadata": {
        "id": "bkDvSWxOllkM",
        "colab_type": "code",
        "colab": {}
      },
      "source": [
        ""
      ],
      "execution_count": null,
      "outputs": []
    },
    {
      "cell_type": "code",
      "metadata": {
        "id": "lN3ko80sYJUs",
        "colab_type": "code",
        "colab": {
          "base_uri": "https://localhost:8080/",
          "height": 255
        },
        "outputId": "5938ca1f-8eeb-4db4-d9a5-68ba1373219d"
      },
      "source": [
        "predict('6NxAf7M8DNHOBTmEd3JSO5')"
      ],
      "execution_count": 143,
      "outputs": [
        {
          "output_type": "execute_result",
          "data": {
            "text/plain": [
              "['6n9eKNXmhq7cRyr1DduJhF',\n",
              " '26GqCNd8YIYM7P5lHq4waV',\n",
              " '4VKbuRUzNREMZCX8FyrSkj',\n",
              " '2thpB5Uz5y3dvf4RJBRzOZ',\n",
              " '1KpZV5L3I2PWFi1zIXFLkI',\n",
              " '0S5jeGtL75XWsWgOmzP4Ji',\n",
              " '0r0rosy938OmJnh6v4EOyP',\n",
              " '2BxDpMy1E6Ba4hu8E2TY5F',\n",
              " '2cUF3mpuIHAwicXOVo6F8L',\n",
              " '0MkL6nGFtee1YEfvwK1C0C',\n",
              " '4z5kA10HBpAVz59uArXXZa',\n",
              " '3EE8z3wY7NFgjmBbW7tItP',\n",
              " '7IcPmAPkibXiIbmRvzrKUb',\n",
              " '3eqsh8q9i9KECm6p93fT4h']"
            ]
          },
          "metadata": {
            "tags": []
          },
          "execution_count": 143
        }
      ]
    },
    {
      "cell_type": "code",
      "metadata": {
        "id": "Nu1igd9ehKFS",
        "colab_type": "code",
        "colab": {
          "base_uri": "https://localhost:8080/",
          "height": 323
        },
        "outputId": "b0d8e1ad-5311-45a3-e005-dfe1fb5096cd"
      },
      "source": [
        "final_df.loc[27080]"
      ],
      "execution_count": 138,
      "outputs": [
        {
          "output_type": "execute_result",
          "data": {
            "text/plain": [
              "Artist                                                      Kurt Masur\n",
              "id                                              1KpZV5L3I2PWFi1zIXFLkI\n",
              "Song Name            Mendelssohn: Violin Concerto in E Minor Op. 64...\n",
              "Song Popularity                                                     37\n",
              "Year                                                              1993\n",
              "acousticness                                                  0.975667\n",
              "danceability                                                    0.1724\n",
              "duration_ms                                                     521855\n",
              "energy                                                        0.130911\n",
              "instrumentalness                                              0.441744\n",
              "liveness                                                      0.153267\n",
              "loudness                                                      -20.7314\n",
              "speechiness                                                  0.0423444\n",
              "tempo                                                            98.05\n",
              "valence                                                      0.0837333\n",
              "Artist Popularity                                                   23\n",
              "Genres_cleaned        'classical performance','orchestral performance'\n",
              "Name: 27080, dtype: object"
            ]
          },
          "metadata": {
            "tags": []
          },
          "execution_count": 138
        }
      ]
    },
    {
      "cell_type": "code",
      "metadata": {
        "id": "HR--dxbahhQX",
        "colab_type": "code",
        "colab": {
          "base_uri": "https://localhost:8080/",
          "height": 323
        },
        "outputId": "4ef32f31-0984-40c9-963c-4609cb0a72aa"
      },
      "source": [
        "final_df.loc[131]"
      ],
      "execution_count": 136,
      "outputs": [
        {
          "output_type": "execute_result",
          "data": {
            "text/plain": [
              "Artist                                               Vladimir Horowitz\n",
              "id                                              4VKbuRUzNREMZCX8FyrSkj\n",
              "Song Name                                           May Breezes, No. 1\n",
              "Song Popularity                                                      0\n",
              "Year                                                              1928\n",
              "acousticness                                                   0.99007\n",
              "danceability                                                   0.34321\n",
              "duration_ms                                                     266541\n",
              "energy                                                        0.118844\n",
              "instrumentalness                                              0.879508\n",
              "liveness                                                      0.183812\n",
              "loudness                                                      -23.1934\n",
              "speechiness                                                  0.0433598\n",
              "tempo                                                          94.9007\n",
              "valence                                                       0.225951\n",
              "Artist Popularity                                                    3\n",
              "Genres_cleaned       'classical','classical performance','classical...\n",
              "Name: 131, dtype: object"
            ]
          },
          "metadata": {
            "tags": []
          },
          "execution_count": 136
        }
      ]
    },
    {
      "cell_type": "code",
      "metadata": {
        "id": "AvLzpS3yYkZf",
        "colab_type": "code",
        "colab": {}
      },
      "source": [
        "input = new_df[new_df['id'] == '1KpZV5L3I2PWFi1zIXFLkI']"
      ],
      "execution_count": 117,
      "outputs": []
    },
    {
      "cell_type": "code",
      "metadata": {
        "id": "yIVnfnJifltz",
        "colab_type": "code",
        "colab": {
          "base_uri": "https://localhost:8080/",
          "height": 102
        },
        "outputId": "a8267bdf-dfae-4585-c177-12962e50baf7"
      },
      "source": [
        "print(input)"
      ],
      "execution_count": 118,
      "outputs": [
        {
          "output_type": "stream",
          "text": [
            "    Artist                      id  ...  'zolo'  'zydeco'\n",
            "0     2624  6NxAf7M8DNHOBTmEd3JSO5  ...       0         0\n",
            "24    8837  6NxAf7M8DNHOBTmEd3JSO5  ...       0         0\n",
            "\n",
            "[2 rows x 2059 columns]\n"
          ],
          "name": "stdout"
        }
      ]
    },
    {
      "cell_type": "code",
      "metadata": {
        "id": "rUy4ZvSBfn-r",
        "colab_type": "code",
        "colab": {
          "base_uri": "https://localhost:8080/",
          "height": 136
        },
        "outputId": "03fb0f11-ded5-4727-c15e-dc63a4242910"
      },
      "source": [
        "output = new_df[new_df['id'] == '1KpZV5L3I2PWFi1zIXFLkI']\n",
        "print(output)"
      ],
      "execution_count": 137,
      "outputs": [
        {
          "output_type": "stream",
          "text": [
            "       Artist                      id  ...  'zolo'  'zydeco'\n",
            "9        2624  1KpZV5L3I2PWFi1zIXFLkI  ...       0         0\n",
            "27076    2993  1KpZV5L3I2PWFi1zIXFLkI  ...       0         0\n",
            "27080    4469  1KpZV5L3I2PWFi1zIXFLkI  ...       0         0\n",
            "31761    5348  1KpZV5L3I2PWFi1zIXFLkI  ...       0         0\n",
            "\n",
            "[4 rows x 2059 columns]\n"
          ],
          "name": "stdout"
        }
      ]
    },
    {
      "cell_type": "code",
      "metadata": {
        "id": "1vGshI4Lf0QU",
        "colab_type": "code",
        "colab": {
          "base_uri": "https://localhost:8080/",
          "height": 221
        },
        "outputId": "651295aa-b076-4cc9-ac75-569939b37f26"
      },
      "source": [
        "new_df.loc[0]"
      ],
      "execution_count": 125,
      "outputs": [
        {
          "output_type": "execute_result",
          "data": {
            "text/plain": [
              "Artist                               2624\n",
              "id                 6NxAf7M8DNHOBTmEd3JSO5\n",
              "Song Name                           20075\n",
              "Song Popularity                         0\n",
              "Year                                 1928\n",
              "                            ...          \n",
              "'yugoslav rock'                         0\n",
              "'zapstep'                               0\n",
              "'zhongguo feng'                         0\n",
              "'zolo'                                  0\n",
              "'zydeco'                                0\n",
              "Name: 0, Length: 2059, dtype: object"
            ]
          },
          "metadata": {
            "tags": []
          },
          "execution_count": 125
        }
      ]
    },
    {
      "cell_type": "code",
      "metadata": {
        "id": "BgVCghV-gy4d",
        "colab_type": "code",
        "colab": {
          "base_uri": "https://localhost:8080/",
          "height": 34
        },
        "outputId": "0be9f274-937d-4e37-d73a-64bbad9be17d"
      },
      "source": [
        "import joblib\n",
        "\n",
        "joblib.dump(knn, \"KNN.joblib\", compress=2, protocol=None, cache_size=None)\n"
      ],
      "execution_count": 150,
      "outputs": [
        {
          "output_type": "execute_result",
          "data": {
            "text/plain": [
              "['KNN.joblib']"
            ]
          },
          "metadata": {
            "tags": []
          },
          "execution_count": 150
        }
      ]
    },
    {
      "cell_type": "code",
      "metadata": {
        "id": "9qZeQ7dOl697",
        "colab_type": "code",
        "colab": {
          "base_uri": "https://localhost:8080/",
          "height": 102
        },
        "outputId": "df94e92d-8d5f-4cca-ab51-196c7709bbf1"
      },
      "source": [
        "!ls -lh"
      ],
      "execution_count": 151,
      "outputs": [
        {
          "output_type": "stream",
          "text": [
            "total 43M\n",
            "-rw-r--r-- 1 root root  29M Aug 25 18:59 data.csv\n",
            "-rw-r--r-- 1 root root 5.1M Aug 25 18:58 data_w_genres.csv\n",
            "-rw-r--r-- 1 root root 9.1M Aug 25 21:50 KNN.joblib\n",
            "drwxr-xr-x 1 root root 4.0K Aug 24 16:35 sample_data\n"
          ],
          "name": "stdout"
        }
      ]
    },
    {
      "cell_type": "code",
      "metadata": {
        "id": "bNzOQgsjl-xg",
        "colab_type": "code",
        "colab": {}
      },
      "source": [
        "#load model from pckle joblib file \n",
        "knn = joblib.load('KNN.joblib')\n",
        "\n",
        "def predict(track_id):\n",
        "\n",
        "    obs = new_df.index[new_df['id'] == track_id]\n",
        "    series = new_df.iloc[obs, 5:].to_numpy()\n",
        "\n",
        "    neighbors = knn.kneighbors(series)\n",
        "    new_obs = neighbors[1][0][6:20]\n",
        "    return list(new_df.loc[new_obs, 'id'])"
      ],
      "execution_count": 152,
      "outputs": []
    },
    {
      "cell_type": "code",
      "metadata": {
        "id": "EtEp3xuMm_lV",
        "colab_type": "code",
        "colab": {
          "base_uri": "https://localhost:8080/",
          "height": 255
        },
        "outputId": "107eab96-1d28-4c2b-990d-86d59847bf21"
      },
      "source": [
        "predict('6NxAf7M8DNHOBTmEd3JSO5')"
      ],
      "execution_count": 153,
      "outputs": [
        {
          "output_type": "execute_result",
          "data": {
            "text/plain": [
              "['6n9eKNXmhq7cRyr1DduJhF',\n",
              " '26GqCNd8YIYM7P5lHq4waV',\n",
              " '4VKbuRUzNREMZCX8FyrSkj',\n",
              " '2thpB5Uz5y3dvf4RJBRzOZ',\n",
              " '1KpZV5L3I2PWFi1zIXFLkI',\n",
              " '0S5jeGtL75XWsWgOmzP4Ji',\n",
              " '0r0rosy938OmJnh6v4EOyP',\n",
              " '2BxDpMy1E6Ba4hu8E2TY5F',\n",
              " '2cUF3mpuIHAwicXOVo6F8L',\n",
              " '0MkL6nGFtee1YEfvwK1C0C',\n",
              " '4z5kA10HBpAVz59uArXXZa',\n",
              " '3EE8z3wY7NFgjmBbW7tItP',\n",
              " '7IcPmAPkibXiIbmRvzrKUb',\n",
              " '3eqsh8q9i9KECm6p93fT4h']"
            ]
          },
          "metadata": {
            "tags": []
          },
          "execution_count": 153
        }
      ]
    },
    {
      "cell_type": "code",
      "metadata": {
        "id": "C4FaOjt4nGUe",
        "colab_type": "code",
        "colab": {}
      },
      "source": [
        ""
      ],
      "execution_count": null,
      "outputs": []
    }
  ]
}